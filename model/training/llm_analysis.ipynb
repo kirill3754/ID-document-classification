{
 "cells": [
  {
   "cell_type": "code",
   "execution_count": 33,
   "metadata": {
    "vscode": {
     "languageId": "markdown"
    }
   },
   "outputs": [
    {
     "data": {
      "text/html": [
       "<div>\n",
       "<style scoped>\n",
       "    .dataframe tbody tr th:only-of-type {\n",
       "        vertical-align: middle;\n",
       "    }\n",
       "\n",
       "    .dataframe tbody tr th {\n",
       "        vertical-align: top;\n",
       "    }\n",
       "\n",
       "    .dataframe thead th {\n",
       "        text-align: right;\n",
       "    }\n",
       "</style>\n",
       "<table border=\"1\" class=\"dataframe\">\n",
       "  <thead>\n",
       "    <tr style=\"text-align: right;\">\n",
       "      <th></th>\n",
       "      <th>filename</th>\n",
       "      <th>real_class</th>\n",
       "      <th>predicted_class</th>\n",
       "      <th>confidence</th>\n",
       "    </tr>\n",
       "  </thead>\n",
       "  <tbody>\n",
       "    <tr>\n",
       "      <th>0</th>\n",
       "      <td>29.jpg</td>\n",
       "      <td>ID Card of Albania</td>\n",
       "      <td>ID Card of Albania</td>\n",
       "      <td>100.0</td>\n",
       "    </tr>\n",
       "    <tr>\n",
       "      <th>1</th>\n",
       "      <td>33.jpg</td>\n",
       "      <td>ID Card of Albania</td>\n",
       "      <td>ID Card of Albania</td>\n",
       "      <td>100.0</td>\n",
       "    </tr>\n",
       "    <tr>\n",
       "      <th>2</th>\n",
       "      <td>40.jpg</td>\n",
       "      <td>ID Card of Albania</td>\n",
       "      <td>ID Card of Albania</td>\n",
       "      <td>100.0</td>\n",
       "    </tr>\n",
       "    <tr>\n",
       "      <th>3</th>\n",
       "      <td>41.jpg</td>\n",
       "      <td>ID Card of Albania</td>\n",
       "      <td>ID Card of Albania</td>\n",
       "      <td>100.0</td>\n",
       "    </tr>\n",
       "    <tr>\n",
       "      <th>4</th>\n",
       "      <td>43.jpg</td>\n",
       "      <td>ID Card of Albania</td>\n",
       "      <td>ID Card of Albania</td>\n",
       "      <td>100.0</td>\n",
       "    </tr>\n",
       "  </tbody>\n",
       "</table>\n",
       "</div>"
      ],
      "text/plain": [
       "  filename          real_class     predicted_class  confidence\n",
       "0   29.jpg  ID Card of Albania  ID Card of Albania       100.0\n",
       "1   33.jpg  ID Card of Albania  ID Card of Albania       100.0\n",
       "2   40.jpg  ID Card of Albania  ID Card of Albania       100.0\n",
       "3   41.jpg  ID Card of Albania  ID Card of Albania       100.0\n",
       "4   43.jpg  ID Card of Albania  ID Card of Albania       100.0"
      ]
     },
     "execution_count": 33,
     "metadata": {},
     "output_type": "execute_result"
    }
   ],
   "source": [
    "import pandas as pd\n",
    "df = pd.read_csv('llm_results.csv')\n",
    "df.head()"
   ]
  },
  {
   "cell_type": "code",
   "execution_count": null,
   "metadata": {
    "vscode": {
     "languageId": "markdown"
    }
   },
   "outputs": [
    {
     "data": {
      "text/plain": [
       "['ID Card of Albania',\n",
       " 'ID Card of Estonia',\n",
       " 'ID Card of Finland',\n",
       " 'ID Card of Slovakia',\n",
       " 'ID Card of Spain',\n",
       " 'Internal passport of Russia',\n",
       " 'Passport of Azerbaijan',\n",
       " 'Passport of Greece',\n",
       " 'Passport of Latvia',\n",
       " 'Passport of Serbia',\n",
       " 'other']"
      ]
     },
     "execution_count": 50,
     "metadata": {},
     "output_type": "execute_result"
    }
   ],
   "source": [
    "classes = df['real_class'].unique()\n",
    "df['predicted_class'] = df['predicted_class'].apply(\n",
    "    lambda x: x if x in classes else 'other'\n",
    ")\n",
    "classes = sorted(list(classes)) + ['other']\n",
    "classes"
   ]
  },
  {
   "cell_type": "code",
   "execution_count": null,
   "metadata": {},
   "outputs": [
    {
     "name": "stdout",
     "output_type": "stream",
     "text": [
      "[[15  0  0  0  0  0  0  0  0  0  0]\n",
      " [ 0 15  0  0  0  0  0  0  0  0  0]\n",
      " [ 0  0 15  0  0  0  0  0  0  0  0]\n",
      " [ 0  0  0 15  0  0  0  0  0  0  0]\n",
      " [ 0  0  0  0 15  0  0  0  0  0  0]\n",
      " [ 0  3  0  0  0 11  0  0  0  0  1]\n",
      " [ 0  0  0  0  0  0 14  0  0  0  1]\n",
      " [ 0  0  0  0  0  0  0 15  0  0  0]\n",
      " [ 0  0  0  0  0  0  0  0 14  0  1]\n",
      " [ 0  0  0  0  0  0  0  0  0 15  0]\n",
      " [ 0  0  0  0  0  0  0  0  0  0  0]]\n"
     ]
    }
   ],
   "source": [
    "from sklearn.metrics import confusion_matrix, classification_report\n",
    "\n",
    "cm = confusion_matrix(df['real_class'], df['predicted_class'])\n",
    "print(cm)"
   ]
  },
  {
   "cell_type": "code",
   "execution_count": null,
   "metadata": {},
   "outputs": [
    {
     "name": "stdout",
     "output_type": "stream",
     "text": [
      "Classification Report\n",
      "                             precision    recall  f1-score   support\n",
      "\n",
      "         ID Card of Albania       1.00      1.00      1.00        15\n",
      "         ID Card of Estonia       0.83      1.00      0.91        15\n",
      "         ID Card of Finland       1.00      1.00      1.00        15\n",
      "        ID Card of Slovakia       1.00      1.00      1.00        15\n",
      "           ID Card of Spain       1.00      1.00      1.00        15\n",
      "Internal passport of Russia       1.00      0.73      0.85        15\n",
      "     Passport of Azerbaijan       1.00      0.93      0.97        15\n",
      "         Passport of Greece       1.00      1.00      1.00        15\n",
      "         Passport of Latvia       1.00      0.93      0.97        15\n",
      "         Passport of Serbia       1.00      1.00      1.00        15\n",
      "                      other       0.00      0.00      0.00         0\n",
      "\n",
      "                   accuracy                           0.96       150\n",
      "                  macro avg       0.89      0.87      0.88       150\n",
      "               weighted avg       0.98      0.96      0.97       150\n",
      "\n"
     ]
    },
    {
     "name": "stderr",
     "output_type": "stream",
     "text": [
      "e:\\Seek pass case study\\Proj\\model\\venv\\Lib\\site-packages\\sklearn\\metrics\\_classification.py:1565: UndefinedMetricWarning: Recall is ill-defined and being set to 0.0 in labels with no true samples. Use `zero_division` parameter to control this behavior.\n",
      "  _warn_prf(average, modifier, f\"{metric.capitalize()} is\", len(result))\n",
      "e:\\Seek pass case study\\Proj\\model\\venv\\Lib\\site-packages\\sklearn\\metrics\\_classification.py:1565: UndefinedMetricWarning: Recall is ill-defined and being set to 0.0 in labels with no true samples. Use `zero_division` parameter to control this behavior.\n",
      "  _warn_prf(average, modifier, f\"{metric.capitalize()} is\", len(result))\n",
      "e:\\Seek pass case study\\Proj\\model\\venv\\Lib\\site-packages\\sklearn\\metrics\\_classification.py:1565: UndefinedMetricWarning: Recall is ill-defined and being set to 0.0 in labels with no true samples. Use `zero_division` parameter to control this behavior.\n",
      "  _warn_prf(average, modifier, f\"{metric.capitalize()} is\", len(result))\n"
     ]
    }
   ],
   "source": [
    "report = classification_report(\n",
    "    df['real_class'], df['predicted_class'], target_names=classes\n",
    ")\n",
    "print('Classification Report')\n",
    "print(report)"
   ]
  },
  {
   "cell_type": "code",
   "execution_count": null,
   "metadata": {},
   "outputs": [],
   "source": []
  }
 ],
 "metadata": {
  "kernelspec": {
   "display_name": "venv",
   "language": "python",
   "name": "python3"
  },
  "language_info": {
   "codemirror_mode": {
    "name": "ipython",
    "version": 3
   },
   "file_extension": ".py",
   "mimetype": "text/x-python",
   "name": "python",
   "nbconvert_exporter": "python",
   "pygments_lexer": "ipython3",
   "version": "3.11.9"
  }
 },
 "nbformat": 4,
 "nbformat_minor": 2
}
