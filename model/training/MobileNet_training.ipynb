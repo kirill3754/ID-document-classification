{
 "cells": [
  {
   "cell_type": "code",
   "execution_count": 1,
   "metadata": {},
   "outputs": [],
   "source": [
    "import os\n",
    "import numpy as np\n",
    "import pickle\n",
    "import tensorflow as tf\n",
    "from tensorflow import keras\n",
    "from tensorflow.keras import layers, models, applications\n",
    "from tensorflow.keras.preprocessing.image import ImageDataGenerator\n",
    "from sklearn.metrics import confusion_matrix"
   ]
  },
  {
   "cell_type": "markdown",
   "metadata": {},
   "source": [
    "Data generators"
   ]
  },
  {
   "cell_type": "code",
   "execution_count": null,
   "metadata": {},
   "outputs": [
    {
     "name": "stdout",
     "output_type": "stream",
     "text": [
      "Found 700 images belonging to 10 classes.\n",
      "Found 150 images belonging to 10 classes.\n",
      "Found 150 images belonging to 10 classes.\n"
     ]
    }
   ],
   "source": [
    "DATA_DIR = '../data/processed'\n",
    "\n",
    "BATCH_SIZE = 35\n",
    "IMG_SIZE = 224\n",
    "\n",
    "datagen = ImageDataGenerator(\n",
    "    preprocessing_function=applications.mobilenet_v2.preprocess_input\n",
    ")\n",
    "\n",
    "train_generator = datagen.flow_from_directory(\n",
    "    os.path.join(DATA_DIR, 'train'),\n",
    "    target_size=(IMG_SIZE, IMG_SIZE),\n",
    "    batch_size=BATCH_SIZE,\n",
    "    class_mode='categorical'\n",
    ")\n",
    "\n",
    "validation_generator = datagen.flow_from_directory(\n",
    "    os.path.join(DATA_DIR, 'val'),\n",
    "    target_size=(IMG_SIZE, IMG_SIZE),\n",
    "    batch_size=BATCH_SIZE,\n",
    "    class_mode='categorical'\n",
    ")\n",
    "\n",
    "test_generator = datagen.flow_from_directory(\n",
    "    os.path.join(DATA_DIR, 'test'),\n",
    "    target_size=(IMG_SIZE, IMG_SIZE),\n",
    "    batch_size=BATCH_SIZE,\n",
    "    class_mode='categorical',\n",
    "    shuffle=False\n",
    ")"
   ]
  },
  {
   "cell_type": "markdown",
   "metadata": {},
   "source": [
    "Create model MobileNetV2"
   ]
  },
  {
   "cell_type": "code",
   "execution_count": null,
   "metadata": {},
   "outputs": [],
   "source": [
    "MODEL_DIR = '../models'\n",
    "os.makedirs(MODEL_DIR, exist_ok=True)\n",
    "\n",
    "def create_model():\n",
    "    base_model = applications.MobileNetV2(\n",
    "        input_shape=(IMG_SIZE, IMG_SIZE, 3),\n",
    "        include_top=False,\n",
    "        weights='imagenet'\n",
    "    )\n",
    "    base_model.trainable = False\n",
    "    \n",
    "    model = models.Sequential([\n",
    "        base_model,\n",
    "        layers.GlobalAveragePooling2D(),\n",
    "        layers.Dense(128, activation='relu'),\n",
    "        layers.BatchNormalization(),\n",
    "        layers.Dropout(0.5),\n",
    "        layers.Dense(10, activation='softmax')\n",
    "    ])\n",
    "    \n",
    "    return model\n",
    "\n",
    "model = create_model()\n",
    "model.compile(\n",
    "    optimizer=keras.optimizers.Adam(learning_rate=0.001),\n",
    "    loss='categorical_crossentropy',\n",
    "    metrics=['accuracy']\n",
    ")\n",
    "\n",
    "callbacks = [\n",
    "    keras.callbacks.ModelCheckpoint(\n",
    "        os.path.join(MODEL_DIR, 'mobilenetv2_best.h5'),\n",
    "        monitor='val_accuracy',\n",
    "        save_best_only=True,\n",
    "        mode='max'\n",
    "    ),\n",
    "    keras.callbacks.EarlyStopping(\n",
    "        monitor='val_loss',\n",
    "        patience=5,\n",
    "        restore_best_weights=True\n",
    "    )\n",
    "]"
   ]
  },
  {
   "cell_type": "markdown",
   "metadata": {},
   "source": [
    "Training"
   ]
  },
  {
   "cell_type": "code",
   "execution_count": null,
   "metadata": {},
   "outputs": [
    {
     "name": "stdout",
     "output_type": "stream",
     "text": [
      "Epoch 1/20\n",
      "20/20 [==============================] - ETA: 0s - loss: 2.6989 - accuracy: 0.2071"
     ]
    },
    {
     "name": "stderr",
     "output_type": "stream",
     "text": [
      "c:\\Users\\kiril\\OneDrive - The University of Melbourne\\ML\\Seek pass case study\\Proj\\model\\venv\\Lib\\site-packages\\keras\\src\\engine\\training.py:3000: UserWarning: You are saving your model as an HDF5 file via `model.save()`. This file format is considered legacy. We recommend using instead the native Keras format, e.g. `model.save('my_model.keras')`.\n",
      "  saving_api.save_model(\n"
     ]
    },
    {
     "name": "stdout",
     "output_type": "stream",
     "text": [
      "20/20 [==============================] - 60s 3s/step - loss: 2.6989 - accuracy: 0.2071 - val_loss: 2.2799 - val_accuracy: 0.1867\n",
      "Epoch 2/20\n",
      "20/20 [==============================] - 54s 3s/step - loss: 1.3335 - accuracy: 0.5414 - val_loss: 1.4988 - val_accuracy: 0.4600\n",
      "Epoch 3/20\n",
      "20/20 [==============================] - 53s 3s/step - loss: 0.8505 - accuracy: 0.7229 - val_loss: 1.2507 - val_accuracy: 0.5667\n",
      "Epoch 4/20\n",
      "20/20 [==============================] - 53s 3s/step - loss: 0.6088 - accuracy: 0.8171 - val_loss: 0.9779 - val_accuracy: 0.7000\n",
      "Epoch 5/20\n",
      "20/20 [==============================] - 53s 3s/step - loss: 0.4530 - accuracy: 0.8600 - val_loss: 0.9189 - val_accuracy: 0.7067\n",
      "Epoch 6/20\n",
      "20/20 [==============================] - 53s 3s/step - loss: 0.3556 - accuracy: 0.9200 - val_loss: 0.8833 - val_accuracy: 0.6800\n",
      "Epoch 7/20\n",
      "20/20 [==============================] - 53s 3s/step - loss: 0.2800 - accuracy: 0.9400 - val_loss: 0.8316 - val_accuracy: 0.7133\n",
      "Epoch 8/20\n",
      "20/20 [==============================] - 53s 3s/step - loss: 0.2468 - accuracy: 0.9400 - val_loss: 0.7365 - val_accuracy: 0.7533\n",
      "Epoch 9/20\n",
      "20/20 [==============================] - 53s 3s/step - loss: 0.2045 - accuracy: 0.9571 - val_loss: 0.7465 - val_accuracy: 0.7200\n",
      "Epoch 10/20\n",
      "20/20 [==============================] - 54s 3s/step - loss: 0.1628 - accuracy: 0.9686 - val_loss: 0.7485 - val_accuracy: 0.7267\n",
      "Epoch 11/20\n",
      "20/20 [==============================] - 52s 3s/step - loss: 0.1291 - accuracy: 0.9814 - val_loss: 0.7044 - val_accuracy: 0.7467\n",
      "Epoch 12/20\n",
      "20/20 [==============================] - 56s 3s/step - loss: 0.1286 - accuracy: 0.9843 - val_loss: 0.7216 - val_accuracy: 0.7400\n",
      "Epoch 13/20\n",
      "20/20 [==============================] - 63s 3s/step - loss: 0.1025 - accuracy: 0.9829 - val_loss: 0.6755 - val_accuracy: 0.7667\n",
      "Epoch 14/20\n",
      "20/20 [==============================] - 61s 3s/step - loss: 0.0852 - accuracy: 0.9914 - val_loss: 0.6450 - val_accuracy: 0.7667\n",
      "Epoch 15/20\n",
      "20/20 [==============================] - 62s 3s/step - loss: 0.0890 - accuracy: 0.9929 - val_loss: 0.6609 - val_accuracy: 0.8133\n",
      "Epoch 16/20\n",
      "20/20 [==============================] - 60s 3s/step - loss: 0.0770 - accuracy: 0.9886 - val_loss: 0.6173 - val_accuracy: 0.7933\n",
      "Epoch 17/20\n",
      "20/20 [==============================] - 62s 3s/step - loss: 0.0687 - accuracy: 0.9900 - val_loss: 0.6134 - val_accuracy: 0.7800\n",
      "Epoch 18/20\n",
      "20/20 [==============================] - 59s 3s/step - loss: 0.0656 - accuracy: 0.9900 - val_loss: 0.6392 - val_accuracy: 0.7867\n",
      "Epoch 19/20\n",
      "20/20 [==============================] - 57s 3s/step - loss: 0.0545 - accuracy: 0.9957 - val_loss: 0.6754 - val_accuracy: 0.7733\n",
      "Epoch 20/20\n",
      "20/20 [==============================] - 52s 3s/step - loss: 0.0514 - accuracy: 0.9957 - val_loss: 0.6409 - val_accuracy: 0.7867\n"
     ]
    }
   ],
   "source": [
    "history = model.fit(\n",
    "    train_generator,\n",
    "    validation_data=validation_generator,\n",
    "    epochs=20,\n",
    "    callbacks=callbacks\n",
    ")\n",
    "model.save(os.path.join(MODEL_DIR, 'mobilenetv2_final.h5'))\n",
    "class_indices = train_generator.class_indices\n",
    "np.save(os.path.join(MODEL_DIR, 'class_indices.npy'), class_indices)\n",
    "history_path = os.path.join(MODEL_DIR, 'history.pkl')\n",
    "with open(history_path, 'wb') as f:\n",
    "    pickle.dump(history.history, f)"
   ]
  },
  {
   "cell_type": "markdown",
   "metadata": {},
   "source": [
    "Evaluation"
   ]
  },
  {
   "cell_type": "code",
   "execution_count": null,
   "metadata": {},
   "outputs": [
    {
     "name": "stdout",
     "output_type": "stream",
     "text": [
      "5/5 [==============================] - 12s 2s/step - loss: 0.5771 - accuracy: 0.7867\n",
      "Test accuracy: 0.7867\n",
      "Test loss: 0.5771\n"
     ]
    }
   ],
   "source": [
    "model_path = os.path.join(MODEL_DIR, 'mobilenetv2_best.h5')\n",
    "\n",
    "model = keras.models.load_model(model_path)\n",
    "\n",
    "test_loss, test_accuracy = model.evaluate(test_generator)\n",
    "print(f'Test accuracy: {test_accuracy:.4f}')\n",
    "print(f'Test loss: {test_loss:.4f}')"
   ]
  },
  {
   "cell_type": "code",
   "execution_count": null,
   "metadata": {},
   "outputs": [
    {
     "data": {
      "image/png": "[encoded data removed]",
      "text/plain": [
       "<Figure size 1000x500 with 1 Axes>"
      ]
     },
     "metadata": {},
     "output_type": "display_data"
    }
   ],
   "source": [
    "import matplotlib.pyplot as plt\n",
    "\n",
    "history_path = os.path.join(MODEL_DIR, 'history.pkl')\n",
    "with open(history_path, 'rb') as f:\n",
    "    loaded_history = pickle.load(f)\n",
    "\n",
    "plt.style.use('dark_background')\n",
    "plt.figure(figsize=(10, 5))\n",
    "plt.plot(loaded_history['loss'], label='Training Loss')\n",
    "plt.plot(loaded_history['val_loss'], label='Validation Loss')\n",
    "plt.xlim(0, len(loaded_history['loss']))\n",
    "plt.xticks(np.arange(0, len(loaded_history['loss']), 2))\n",
    "plt.xlabel('Epoch')\n",
    "plt.ylabel('Loss')\n",
    "plt.legend(loc='upper right')\n",
    "plt.grid(color='gray', linestyle='-', linewidth=0.5)\n",
    "plt.show()"
   ]
  },
  {
   "cell_type": "code",
   "execution_count": null,
   "metadata": {},
   "outputs": [
    {
     "name": "stdout",
     "output_type": "stream",
     "text": [
      "5/5 [==============================] - 11s 2s/step\n",
      "[[10  0  3  0  0  0  0  0  1  1]\n",
      " [ 0 14  0  1  0  0  0  0  0  0]\n",
      " [ 0  0 14  0  0  0  0  0  0  1]\n",
      " [ 0  0  0 13  1  0  0  0  1  0]\n",
      " [ 5  1  3  2  3  0  0  0  0  1]\n",
      " [ 0  0  0  0  0 12  2  0  1  0]\n",
      " [ 0  1  0  0  0  0 13  0  1  0]\n",
      " [ 0  0  0  0  0  1  0 12  2  0]\n",
      " [ 0  0  0  0  0  1  0  0 14  0]\n",
      " [ 1  0  1  0  0  0  0  0  0 13]]\n",
      "\n",
      "Per-class accuracy:\n",
      "alb_id: 0.6667\n",
      "aze_passport: 0.9333\n",
      "esp_id: 0.9333\n",
      "est_id: 0.8667\n",
      "fin_id: 0.2000\n",
      "grc_passport: 0.8000\n",
      "lva_passport: 0.8667\n",
      "rus_internalpassport: 0.8000\n",
      "srb_passport: 0.9333\n",
      "svk_id: 0.8667\n"
     ]
    }
   ],
   "source": [
    "test_generator.reset()\n",
    "y_pred = model.predict(test_generator)\n",
    "y_pred_classes = np.argmax(y_pred, axis=1)\n",
    "y_true = test_generator.classes\n",
    "\n",
    "cm = confusion_matrix(y_true, y_pred_classes)\n",
    "print(cm)\n",
    "\n",
    "# Added: define class_names from test_generator's class indices\n",
    "class_names = list(test_generator.class_indices.keys())\n",
    "\n",
    "# Calculate per-class accuracy\n",
    "per_class_accuracy = {}\n",
    "for class_id in range(len(class_names)):\n",
    "    class_indices = np.where(y_true == class_id)[0]\n",
    "    if len(class_indices) > 0:\n",
    "        class_accuracy = np.mean(y_pred_classes[class_indices] == class_id)\n",
    "        per_class_accuracy[class_names[class_id]] = class_accuracy\n",
    "\n",
    "# Print per-class accuracy\n",
    "print('\\nPer-class accuracy:')\n",
    "for class_name, accuracy in per_class_accuracy.items():\n",
    "    print(f'{class_name}: {accuracy:.4f}')"
   ]
  },
  {
   "cell_type": "code",
   "execution_count": null,
   "metadata": {},
   "outputs": [
    {
     "name": "stdout",
     "output_type": "stream",
     "text": [
      "                      precision    recall  f1-score   support\n",
      "\n",
      "              alb_id       0.62      0.67      0.65        15\n",
      "        aze_passport       0.88      0.93      0.90        15\n",
      "              esp_id       0.67      0.93      0.78        15\n",
      "              est_id       0.81      0.87      0.84        15\n",
      "              fin_id       0.75      0.20      0.32        15\n",
      "        grc_passport       0.86      0.80      0.83        15\n",
      "        lva_passport       0.87      0.87      0.87        15\n",
      "rus_internalpassport       1.00      0.80      0.89        15\n",
      "        srb_passport       0.70      0.93      0.80        15\n",
      "              svk_id       0.81      0.87      0.84        15\n",
      "\n",
      "            accuracy                           0.79       150\n",
      "           macro avg       0.80      0.79      0.77       150\n",
      "        weighted avg       0.80      0.79      0.77       150\n",
      "\n"
     ]
    }
   ],
   "source": [
    "from sklearn.metrics import classification_report\n",
    "\n",
    "report = classification_report(y_true, y_pred_classes, target_names=class_names)\n",
    "print(report)"
   ]
  },
  {
   "cell_type": "code",
   "execution_count": null,
   "metadata": {},
   "outputs": [],
   "source": []
  }
 ],
 "metadata": {
  "kernelspec": {
   "display_name": "Python (venv)",
   "language": "python",
   "name": "venv"
  },
  "language_info": {
   "codemirror_mode": {
    "name": "ipython",
    "version": 3
   },
   "file_extension": ".py",
   "mimetype": "text/x-python",
   "name": "python",
   "nbconvert_exporter": "python",
   "pygments_lexer": "ipython3",
   "version": "3.11.9"
  }
 },
 "nbformat": 4,
 "nbformat_minor": 2
}
