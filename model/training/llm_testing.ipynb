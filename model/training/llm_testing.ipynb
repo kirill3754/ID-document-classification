{
 "cells": [
  {
   "cell_type": "code",
   "execution_count": 3,
   "metadata": {},
   "outputs": [],
   "source": [
    "import os\n",
    "import numpy as np\n",
    "from tensorflow.keras import  applications\n",
    "from tensorflow.keras.preprocessing.image import ImageDataGenerator\n",
    "\n",
    "DATA_DIR = '../data/processed'\n",
    "\n",
    "datagen = ImageDataGenerator(\n",
    "    preprocessing_function=applications.mobilenet_v2.preprocess_input\n",
    ")"
   ]
  },
  {
   "cell_type": "code",
   "execution_count": 6,
   "metadata": {},
   "outputs": [
    {
     "name": "stdout",
     "output_type": "stream",
     "text": [
      "Found 150 images belonging to 10 classes.\n",
      "Number of training samples: 700\n",
      "Number of classes: 10\n",
      "Class mapping: {'alb_id': 0, 'aze_passport': 1, 'esp_id': 2, 'est_id': 3, 'fin_id': 4, 'grc_passport': 5, 'lva_passport': 6, 'rus_internalpassport': 7, 'srb_passport': 8, 'svk_id': 9}\n"
     ]
    }
   ],
   "source": [
    "test_generator = datagen.flow_from_directory(\n",
    "    f'{DATA_DIR}/val',\n",
    "    class_mode='categorical',\n",
    "    shuffle=False\n",
    ")\n",
    "\n",
    "# Print some information about the generators\n",
    "print(f\"Number of training samples: {train_generator.samples}\")\n",
    "print(f\"Number of classes: {len(train_generator.class_indices)}\")\n",
    "print(f\"Class mapping: {train_generator.class_indices}\")"
   ]
  },
  {
   "cell_type": "code",
   "execution_count": null,
   "metadata": {},
   "outputs": [],
   "source": []
  }
 ],
 "metadata": {
  "kernelspec": {
   "display_name": "Python (venv)",
   "language": "python",
   "name": "venv"
  },
  "language_info": {
   "codemirror_mode": {
    "name": "ipython",
    "version": 3
   },
   "file_extension": ".py",
   "mimetype": "text/x-python",
   "name": "python",
   "nbconvert_exporter": "python",
   "pygments_lexer": "ipython3",
   "version": "3.11.9"
  }
 },
 "nbformat": 4,
 "nbformat_minor": 2
}
